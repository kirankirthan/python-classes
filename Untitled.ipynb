{
 "cells": [
  {
   "cell_type": "code",
   "execution_count": 1,
   "id": "96f5d5c2-0ff2-4c84-9351-2009f891a42c",
   "metadata": {},
   "outputs": [
    {
     "data": {
      "text/plain": [
       "1"
      ]
     },
     "execution_count": 1,
     "metadata": {},
     "output_type": "execute_result"
    }
   ],
   "source": [
    "2 if 1>2 else 1\n"
   ]
  },
  {
   "cell_type": "code",
   "execution_count": 2,
   "id": "4fee428e-fd6e-407e-9102-40ecbed026d4",
   "metadata": {},
   "outputs": [],
   "source": [
    "def funcn():\n",
    "    print(\"this is a funcn\")        "
   ]
  },
  {
   "cell_type": "code",
   "execution_count": 3,
   "id": "bbb5fc79-47d8-4fb3-8651-0281643e0a7e",
   "metadata": {},
   "outputs": [
    {
     "name": "stdout",
     "output_type": "stream",
     "text": [
      "this is a funcn\n"
     ]
    }
   ],
   "source": [
    "funcn()\n"
   ]
  },
  {
   "cell_type": "code",
   "execution_count": 4,
   "id": "78e7030b-c278-44a7-b870-a26548730006",
   "metadata": {},
   "outputs": [],
   "source": [
    "def num():\n",
    "    for i in range (10):     #using yield\n",
    "      yield (i**2)"
   ]
  },
  {
   "cell_type": "code",
   "execution_count": 5,
   "id": "c21a5bde-97e8-48dc-b615-10a22265b2e7",
   "metadata": {},
   "outputs": [
    {
     "name": "stdout",
     "output_type": "stream",
     "text": [
      "0\n",
      "1\n",
      "4\n",
      "9\n",
      "16\n",
      "25\n",
      "36\n",
      "49\n",
      "64\n",
      "81\n"
     ]
    }
   ],
   "source": [
    "for i in num():\n",
    "    print(i)"
   ]
  },
  {
   "cell_type": "code",
   "execution_count": 6,
   "id": "3e1a780c-8e5f-4869-9068-32c5ad07b842",
   "metadata": {},
   "outputs": [],
   "source": [
    "def fib(n):\n",
    "    a,b=0,1\n",
    "    for i in range(n):    #using for loop\n",
    "        yield(a)\n",
    "        a,b=b,a+b"
   ]
  },
  {
   "cell_type": "code",
   "execution_count": 7,
   "id": "94858260-9599-4253-bca6-1ecdde8ab74f",
   "metadata": {},
   "outputs": [
    {
     "name": "stdout",
     "output_type": "stream",
     "text": [
      "0\n",
      "1\n",
      "1\n",
      "2\n",
      "3\n",
      "5\n",
      "8\n",
      "13\n",
      "21\n",
      "34\n"
     ]
    }
   ],
   "source": [
    "for i in fib(10):\n",
    "    print(i)"
   ]
  },
  {
   "cell_type": "code",
   "execution_count": 8,
   "id": "017979aa-212e-40c4-abbe-dd91828f71f2",
   "metadata": {},
   "outputs": [],
   "source": [
    "def fib():\n",
    "    a,b=0,1\n",
    "    while(True):\n",
    "        yield(a)\n",
    "        a,b=b,a+b            #using while loop\n",
    "        \n",
    "f=fib()\n"
   ]
  },
  {
   "cell_type": "code",
   "execution_count": 9,
   "id": "8a54f126-f71c-4fd8-91db-80b590ff3110",
   "metadata": {},
   "outputs": [
    {
     "name": "stdout",
     "output_type": "stream",
     "text": [
      "0\n",
      "1\n",
      "1\n",
      "2\n",
      "3\n",
      "5\n",
      "8\n",
      "13\n",
      "21\n",
      "34\n"
     ]
    }
   ],
   "source": [
    "for i in range(10):\n",
    "    print(next(f))"
   ]
  },
  {
   "cell_type": "code",
   "execution_count": 10,
   "id": "a2f11245-b830-4e79-97dd-7e81b04caf16",
   "metadata": {},
   "outputs": [],
   "source": [
    "# def fib():\n",
    "#     a,b=0,1\n",
    "#     while(True):\n",
    "#         print(a)            #what if used print() with true condition of while loop forever\n",
    "#         a,b=b,a+b \n",
    "# while(True):               #server will be crashed\n",
    "    # fib()"
   ]
  },
  {
   "cell_type": "code",
   "execution_count": 11,
   "id": "7be8e66f-4bd1-4e1b-92b0-a7ac34a508d4",
   "metadata": {},
   "outputs": [],
   "source": [
    "# iterable becomes iterator when iter() funcn will eb used"
   ]
  },
  {
   "cell_type": "code",
   "execution_count": 12,
   "id": "293aa313-3b16-4409-9416-0611e2a8f1b7",
   "metadata": {},
   "outputs": [],
   "source": [
    "a=(lambda a,b,c:a*b+c)      #lambda function"
   ]
  },
  {
   "cell_type": "code",
   "execution_count": 13,
   "id": "9ddccce1-6a18-4422-8029-8323ebe94240",
   "metadata": {},
   "outputs": [
    {
     "data": {
      "text/plain": [
       "10"
      ]
     },
     "execution_count": 13,
     "metadata": {},
     "output_type": "execute_result"
    }
   ],
   "source": [
    "a(2,3,4)"
   ]
  },
  {
   "cell_type": "code",
   "execution_count": 14,
   "id": "c326fd52-57d1-48fa-a79b-189c8fee4cf0",
   "metadata": {},
   "outputs": [],
   "source": [
    "l=[1,2,3,5,6,7,90,0]"
   ]
  },
  {
   "cell_type": "code",
   "execution_count": 15,
   "id": "0f6f3d87-214e-4a7c-abe2-991b0ef32558",
   "metadata": {},
   "outputs": [
    {
     "data": {
      "text/plain": [
       "[1, 8, 27, 125, 216, 343, 729000, 0]"
      ]
     },
     "execution_count": 15,
     "metadata": {},
     "output_type": "execute_result"
    }
   ],
   "source": [
    "list(map(lambda i:i**3,l))"
   ]
  },
  {
   "cell_type": "code",
   "execution_count": 16,
   "id": "8a874d1c-f69e-4976-9d70-6e5023b09134",
   "metadata": {},
   "outputs": [
    {
     "data": {
      "text/plain": [
       "0"
      ]
     },
     "execution_count": 16,
     "metadata": {},
     "output_type": "execute_result"
    }
   ],
   "source": [
    "from functools import reduce\n",
    "reduce(lambda a,b:a*b ,l)"
   ]
  },
  {
   "cell_type": "code",
   "execution_count": 17,
   "id": "582bb690-a742-4f3a-9f18-c2405864fb63",
   "metadata": {},
   "outputs": [
    {
     "data": {
      "text/plain": [
       "[3, 6, 90, 0]"
      ]
     },
     "execution_count": 17,
     "metadata": {},
     "output_type": "execute_result"
    }
   ],
   "source": [
    "list(filter(lambda x:x%3==0,l))"
   ]
  },
  {
   "cell_type": "code",
   "execution_count": 18,
   "id": "56747d68-4381-4acb-b1c0-e2a6a30cbdea",
   "metadata": {},
   "outputs": [],
   "source": [
    "class pwskills:\n",
    "    \"\"\" this class takes ph no email and sudent id \"\"\"\n",
    "    def __init__(self,ph_no,email_id,stud_id):\n",
    "        self.p=ph_no\n",
    "        self.e=email_id\n",
    "        self.s=stud_id\n",
    "    def return_stud(self):\n",
    "        return( self.p, self.e, self.s)"
   ]
  },
  {
   "cell_type": "code",
   "execution_count": 19,
   "id": "c607441b-81e7-4c1c-939c-25b80c2b062c",
   "metadata": {},
   "outputs": [],
   "source": [
    "rohan=pwskills(9901923445,\"rohan1369@gmail.com\",\"kiran_1345\")\n"
   ]
  },
  {
   "cell_type": "code",
   "execution_count": 20,
   "id": "b32eef6d-e01a-4fe7-ba16-f36a312867b3",
   "metadata": {},
   "outputs": [
    {
     "data": {
      "text/plain": [
       "(9901923445, 'rohan1369@gmail.com', 'kiran_1345')"
      ]
     },
     "execution_count": 20,
     "metadata": {},
     "output_type": "execute_result"
    }
   ],
   "source": [
    "rohan.return_stud()"
   ]
  },
  {
   "cell_type": "code",
   "execution_count": 21,
   "id": "d90b7805-0eb0-42e7-9eba-bc981dbcdb19",
   "metadata": {},
   "outputs": [],
   "source": [
    "#polymorphism \"\"\"we can use same funccn nume in two differeenbt classes with different uses when we call the funcn based on the object from which class the output is given\"\"\""
   ]
  },
  {
   "cell_type": "code",
   "execution_count": 22,
   "id": "5d6a4886-bf39-4d13-a926-639b675e3bc0",
   "metadata": {},
   "outputs": [],
   "source": [
    "class web_dev:\n",
    "    def syllabus(self):\n",
    "        print(\"web dev class\")"
   ]
  },
  {
   "cell_type": "code",
   "execution_count": 23,
   "id": "d2d4a4e5-4313-402f-9992-573913b83516",
   "metadata": {},
   "outputs": [],
   "source": [
    "class data_science:\n",
    "    def syllabus(self):\n",
    "        print(\"data science class\")"
   ]
  },
  {
   "cell_type": "code",
   "execution_count": 24,
   "id": "a548c726-a69c-45db-8ab3-a3c923e0ab03",
   "metadata": {},
   "outputs": [],
   "source": [
    "def class_parcer(cals_obj):\n",
    "    for i in cals_obj:\n",
    "        i.syllabus()"
   ]
  },
  {
   "cell_type": "code",
   "execution_count": 25,
   "id": "07bea494-81fa-4cca-8477-7c34480d9a68",
   "metadata": {},
   "outputs": [],
   "source": [
    "a=web_dev()\n",
    "b=data_science()"
   ]
  },
  {
   "cell_type": "code",
   "execution_count": 26,
   "id": "4361c162-3678-4353-b515-880bc97289e3",
   "metadata": {},
   "outputs": [],
   "source": [
    "cals_obj=[a,b]"
   ]
  },
  {
   "cell_type": "code",
   "execution_count": 27,
   "id": "3896f9a7-c7b3-4d35-a210-93faee12814d",
   "metadata": {},
   "outputs": [
    {
     "name": "stdout",
     "output_type": "stream",
     "text": [
      "web dev class\n",
      "data science class\n"
     ]
    }
   ],
   "source": [
    "class_parcer(cals_obj)"
   ]
  },
  {
   "cell_type": "code",
   "execution_count": 28,
   "id": "4da466cf-8749-475a-a7d1-cca2839835d7",
   "metadata": {},
   "outputs": [],
   "source": [
    "# ENCAPSULATION"
   ]
  },
  {
   "cell_type": "code",
   "execution_count": 29,
   "id": "281fdc21-e7cd-4d47-9bff-e490321c19cb",
   "metadata": {},
   "outputs": [],
   "source": [
    "#jisko dikhna nahi chahiye us variable ko encapsulate karna chahiye"
   ]
  },
  {
   "cell_type": "code",
   "execution_count": 31,
   "id": "1ee5d716-c7af-4727-b552-7e483bfdaf69",
   "metadata": {},
   "outputs": [],
   "source": [
    "#ABSTRACTION \n",
    "import abc \n",
    "@abc.abstractmethod\n",
    "def funcn():\n",
    "    pass\n",
    "# define THE FUNCTIONS WHICH U WANT TO USE IN THE INHERITED CLASS WITH ITS OWN DEFINATION IN THE INHERITEFD CLASS \n",
    "# BASICALLY WRITE THE SKELETION OF FUNCTION AND WRITE PASS SO THAT IT CAN BE DEFINED UNDER THE INHERITED CLASS "
   ]
  },
  {
   "cell_type": "code",
   "execution_count": 32,
   "id": "234a4e4a-044b-4d10-ac2d-1ae043025828",
   "metadata": {},
   "outputs": [],
   "source": [
    "#DECORATOR "
   ]
  },
  {
   "cell_type": "code",
   "execution_count": 34,
   "id": "a8b3f429-bd4d-4676-8ed1-615cbc3335e0",
   "metadata": {},
   "outputs": [],
   "source": [
    "def decor(funcn):\n",
    "    def inner_dec():\n",
    "        print(\"satrt of funcn \")\n",
    "        funcn()\n",
    "        print(\"end of funcn\")\n",
    "    return(inner_dec)\n",
    "    "
   ]
  },
  {
   "cell_type": "code",
   "execution_count": 38,
   "id": "9090c7f5-c7cc-432b-9c69-cc7d651dec13",
   "metadata": {},
   "outputs": [],
   "source": [
    "@decor\n",
    "def funcn():\n",
    "    print(6+7)"
   ]
  },
  {
   "cell_type": "code",
   "execution_count": 39,
   "id": "17147da9-be6e-424d-892e-a054e0a58815",
   "metadata": {},
   "outputs": [
    {
     "name": "stdout",
     "output_type": "stream",
     "text": [
      "satrt of funcn \n",
      "13\n",
      "end of funcn\n"
     ]
    }
   ],
   "source": [
    "funcn()"
   ]
  },
  {
   "cell_type": "code",
   "execution_count": 40,
   "id": "efba3dd9-ca82-4aa8-a9b6-c3e97549223a",
   "metadata": {},
   "outputs": [],
   "source": [
    "#CLASS METHOD"
   ]
  },
  {
   "cell_type": "code",
   "execution_count": 45,
   "id": "52d0d539-2bd5-4b05-81dd-ea68c9797d46",
   "metadata": {},
   "outputs": [],
   "source": [
    "# @classmethod\n",
    "#write the method which u would like to define with classand acess the variable and methords under class method without defining an object \n",
    "#SYNTAX: class_name.classmethod or variable"
   ]
  },
  {
   "cell_type": "code",
   "execution_count": 46,
   "id": "d19f0860-27d6-4046-8e29-af86457c377b",
   "metadata": {},
   "outputs": [],
   "source": [
    "# when u need to use external funcn in the class as class method \n",
    "# def fun(cls,a):\n",
    "#     print(f\"hello{a}\")"
   ]
  },
  {
   "cell_type": "code",
   "execution_count": 47,
   "id": "5846b1d2-39fa-4af0-b361-deec1d38e88e",
   "metadata": {},
   "outputs": [],
   "source": [
    "# class_name.fun=classmethod()            this makes ext funcn as cls method"
   ]
  },
  {
   "cell_type": "code",
   "execution_count": 50,
   "id": "83fa4f1c-243f-4b4d-9d84-6077c5d6a9a7",
   "metadata": {},
   "outputs": [],
   "source": [
    "#TO DELETE CLASS FUNCN USE "
   ]
  },
  {
   "cell_type": "code",
   "execution_count": 51,
   "id": "110ef6b8-5063-4201-8850-e1ff6fa7d228",
   "metadata": {},
   "outputs": [],
   "source": [
    "# del class_name.class_method"
   ]
  },
  {
   "cell_type": "code",
   "execution_count": 53,
   "id": "6ed80009-b2de-476f-beb1-6f60c40641f7",
   "metadata": {},
   "outputs": [],
   "source": [
    "# OR \n",
    "# delattr(cls_name,cls_method or variable)"
   ]
  },
  {
   "cell_type": "code",
   "execution_count": 56,
   "id": "d7c624c7-85b1-49b8-aefd-d8fd9a9c25da",
   "metadata": {},
   "outputs": [],
   "source": [
    "#STATIC METHOD --------> to achievev memory utilization\n",
    "# @staticmethod\n",
    "# no need to create and can be called usin class name and no need to give self argument while defining funsn\n",
    "# SO ITS NOT ACCESIBLE BY OBJECT WHEREAS CLASS MEYHOD IS ACCESED BY OBJECT BECOZ WE GIVE SELD ARGUMENT\n",
    "# HOW TO CALL STATIC METHOD IN CLASS METHOD AND METHOD DEFINED IN THE CLASS AND STATIC METHOD ALSO"
   ]
  },
  {
   "cell_type": "code",
   "execution_count": 1,
   "id": "8184d0f1-e059-4748-9154-557654484565",
   "metadata": {},
   "outputs": [],
   "source": [
    "#GETTER SETTER AND DELETE DECORATORS call them and wite fncn for their work  i.e get set del those variables which are ###PRIVATE###"
   ]
  },
  {
   "cell_type": "code",
   "execution_count": 40,
   "id": "e3a4abad-1e3d-48ed-94a4-91b77518aa4a",
   "metadata": {},
   "outputs": [],
   "source": [
    "class pwskills:\n",
    "        def __init__(self,course_price,course_name):\n",
    "        \n",
    "           self.__course_price=course_price\n",
    "           self.course_name=course_name\n",
    "        @property\n",
    "        def course_price_acess(self):\n",
    "            return self.__course_price\n",
    "        @course_price_acess.setter\n",
    "        def course_price_set(self,price):\n",
    "            if price<=3500:\n",
    "                pass\n",
    "            else:\n",
    "                self.__course_price=price\n",
    "        @course_price_acess.deleter\n",
    "        def delete_course_price(self):\n",
    "            del self.__course_price"
   ]
  },
  {
   "cell_type": "code",
   "execution_count": 41,
   "id": "f5365723-a298-4f08-ba4e-1fc8d187ada6",
   "metadata": {},
   "outputs": [],
   "source": [
    "pw=pwskills(3500,\"data science masters\")"
   ]
  },
  {
   "cell_type": "code",
   "execution_count": 42,
   "id": "b9a96c53-9d29-4f0d-9261-c1e0b82f882a",
   "metadata": {},
   "outputs": [
    {
     "data": {
      "text/plain": [
       "3500"
      ]
     },
     "execution_count": 42,
     "metadata": {},
     "output_type": "execute_result"
    }
   ],
   "source": [
    "pw.course_price_acess"
   ]
  },
  {
   "cell_type": "code",
   "execution_count": 43,
   "id": "8a23b2e8-a702-4284-8531-1aace4797c42",
   "metadata": {},
   "outputs": [],
   "source": [
    "pw.course_price_set=4500"
   ]
  },
  {
   "cell_type": "code",
   "execution_count": 44,
   "id": "02d8b24e-a76a-4352-a3da-af2af3ad2ac4",
   "metadata": {},
   "outputs": [
    {
     "data": {
      "text/plain": [
       "4500"
      ]
     },
     "execution_count": 44,
     "metadata": {},
     "output_type": "execute_result"
    }
   ],
   "source": [
    "pw.course_price_acess"
   ]
  },
  {
   "cell_type": "code",
   "execution_count": 45,
   "id": "4216d7e7-4be0-45c2-a321-4cf3fa53079d",
   "metadata": {},
   "outputs": [],
   "source": [
    "del pw.delete_course_price"
   ]
  },
  {
   "cell_type": "code",
   "execution_count": 46,
   "id": "33ace537-d2af-4261-a72d-6c389f5011ec",
   "metadata": {},
   "outputs": [
    {
     "ename": "AttributeError",
     "evalue": "'pwskills' object has no attribute '_pwskills__course_price'",
     "output_type": "error",
     "traceback": [
      "\u001b[0;31m---------------------------------------------------------------------------\u001b[0m",
      "\u001b[0;31mAttributeError\u001b[0m                            Traceback (most recent call last)",
      "Cell \u001b[0;32mIn[46], line 1\u001b[0m\n\u001b[0;32m----> 1\u001b[0m \u001b[43mpw\u001b[49m\u001b[38;5;241;43m.\u001b[39;49m\u001b[43mcourse_price_acess\u001b[49m\n",
      "Cell \u001b[0;32mIn[40], line 8\u001b[0m, in \u001b[0;36mpwskills.course_price_acess\u001b[0;34m(self)\u001b[0m\n\u001b[1;32m      6\u001b[0m \u001b[38;5;129m@property\u001b[39m\n\u001b[1;32m      7\u001b[0m \u001b[38;5;28;01mdef\u001b[39;00m \u001b[38;5;21mcourse_price_acess\u001b[39m(\u001b[38;5;28mself\u001b[39m):\n\u001b[0;32m----> 8\u001b[0m     \u001b[38;5;28;01mreturn\u001b[39;00m \u001b[38;5;28;43mself\u001b[39;49m\u001b[38;5;241;43m.\u001b[39;49m\u001b[43m__course_price\u001b[49m\n",
      "\u001b[0;31mAttributeError\u001b[0m: 'pwskills' object has no attribute '_pwskills__course_price'"
     ]
    }
   ],
   "source": [
    "pw.course_price_acess"
   ]
  },
  {
   "cell_type": "code",
   "execution_count": null,
   "id": "856888e6-e832-4bef-a5a2-0085ac77eccc",
   "metadata": {},
   "outputs": [],
   "source": []
  }
 ],
 "metadata": {
  "kernelspec": {
   "display_name": "Python 3 (ipykernel)",
   "language": "python",
   "name": "python3"
  },
  "language_info": {
   "codemirror_mode": {
    "name": "ipython",
    "version": 3
   },
   "file_extension": ".py",
   "mimetype": "text/x-python",
   "name": "python",
   "nbconvert_exporter": "python",
   "pygments_lexer": "ipython3",
   "version": "3.10.8"
  }
 },
 "nbformat": 4,
 "nbformat_minor": 5
}
